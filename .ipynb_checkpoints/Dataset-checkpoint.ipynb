{
 "cells": [
  {
   "cell_type": "code",
   "id": "initial_id",
   "metadata": {
    "collapsed": true,
    "ExecuteTime": {
     "end_time": "2025-09-29T15:26:50.251598Z",
     "start_time": "2025-09-29T15:26:28.838768Z"
    }
   },
   "source": [
    "import pandas as pd\n",
    "from sklearn.model_selection import train_test_split\n",
    "from sklearn.preprocessing import StandardScaler\n",
    "from sklearn.decomposition import PCA\n",
    "import numpy as np\n",
    "import matplotlib.pyplot as plt"
   ],
   "outputs": [],
   "execution_count": 1
  },
  {
   "metadata": {
    "ExecuteTime": {
     "end_time": "2025-09-29T15:26:57.566055Z",
     "start_time": "2025-09-29T15:26:50.288454Z"
    }
   },
   "cell_type": "code",
   "source": [
    "Rating=pd.read_csv(\"E:/MoviesLensDataset/ml-1m/ratings.dat\",sep=\"::\",engine='python',names=[\"UserId\",\"MovieIDs\",\"Rating\",\"Timestamp\"],\n",
    "                   dtype={\"UserId\":\"int32\",\"MovieIDs\":\"int32\",\"Rating\":\"int32\",\"Timestamp\":\"int32\"})\n",
    "\n",
    "#print(Rating.head())\n",
    "#print(Rating.describe())"
   ],
   "id": "ddaba2331dd1b8fb",
   "outputs": [],
   "execution_count": 2
  },
  {
   "metadata": {},
   "cell_type": "markdown",
   "source": [
    "All ratings are contained in the file \"ratings.dat\" and are in the\n",
    "following format:\n",
    "\n",
    "UserID::MovieID::Rating::Timestamp\n",
    "\n",
    "- UserIDs range between 1 and 6040\n",
    "- MovieIDs range between 1 and 3952\n",
    "- Ratings are made on a 5-star scale (whole-star ratings only)\n",
    "- Timestamp is represented in seconds since the epoch as returned by time(2)\n",
    "- Each user has at least 20 ratings"
   ],
   "id": "8f4c25910abacc6f"
  },
  {
   "metadata": {
    "ExecuteTime": {
     "end_time": "2025-09-29T15:27:08.792839Z",
     "start_time": "2025-09-29T15:27:08.726868Z"
    }
   },
   "cell_type": "code",
   "source": [
    "Users=pd.read_csv(\"E:/MoviesLensDataset/ml-1m/users.dat\",sep=\"::\",engine='python',names=['UserId','Gender','Age','Occupation','Zip-code'])\n",
    "\n",
    "#print(Users.head())\n",
    "#print(Users.describe())"
   ],
   "id": "f22d0474ecf93e98",
   "outputs": [],
   "execution_count": 3
  },
  {
   "metadata": {},
   "cell_type": "markdown",
   "source": [
    "User information is in the file \"users.dat\" and is in the following\n",
    "format:\n",
    "UserID::Gender::Age::Occupation::Zip-code\n",
    "- Gender is denoted by a \"M\" for male and \"F\" for female\n",
    "- Age is chosen from the following ranges:\n",
    "\t*  1:  \"Under 18\"\n",
    "\t* 18:  \"18-24\"\n",
    "\t* 25:  \"25-34\"\n",
    "\t* 35:  \"35-44\"\n",
    "\t* 45:  \"45-49\"\n",
    "\t* 50:  \"50-55\"\n",
    "\t* 56:  \"56+\"\n",
    "- Occupation is chosen from the following choices:\n",
    "\t*  0:  \"other\" or not specified\n",
    "\t*  1:  \"academic/educator\"\n",
    "\t*  2:  \"artist\"\n",
    "\t*  3:  \"clerical/admin\"\n",
    "\t*  4:  \"college/grad student\"\n",
    "\t*  5:  \"customer service\"\n",
    "\t*  6:  \"doctor/health care\"\n",
    "\t*  7:  \"executive/managerial\"\n",
    "\t*  8:  \"farmer\"\n",
    "\t*  9:  \"homemaker\"\n",
    "\t* 10:  \"K-12 student\"\n",
    "\t* 11:  \"lawyer\"\n",
    "\t* 12:  \"programmer\"\n",
    "\t* 13:  \"retired\"\n",
    "\t* 14:  \"sales/marketing\"\n",
    "\t* 15:  \"scientist\"\n",
    "\t* 16:  \"self-employed\"\n",
    "\t* 17:  \"technician/engineer\"\n",
    "\t* 18:  \"tradesman/craftsman\"\n",
    "\t* 19:  \"unemployed\"\n",
    "\t* 20:  \"writer\""
   ],
   "id": "115d7a06b3b6399a"
  },
  {
   "metadata": {
    "ExecuteTime": {
     "end_time": "2025-09-29T15:27:10.326550Z",
     "start_time": "2025-09-29T15:27:10.235714Z"
    }
   },
   "cell_type": "code",
   "source": [
    "Movie=pd.read_csv(\"E:/MoviesLensDataset/ml-1m/movies.dat\",sep=\"::\",engine='python',names=[\"MovieIDs\",\"Ttile\",\"Genres\"],\n",
    "                  encoding=\"latin-1\" )\n",
    "\n",
    "#print(Movie.head())\n",
    "#print(Movie.describe())"
   ],
   "id": "cff9954be79e2920",
   "outputs": [],
   "execution_count": 4
  },
  {
   "metadata": {},
   "cell_type": "markdown",
   "source": [
    "Movie information is in the file \"movies.dat\" and is in the following\n",
    "format:\n",
    "\n",
    "MovieID::Title::Genres"
   ],
   "id": "21e6cb906b849b68"
  },
  {
   "metadata": {
    "ExecuteTime": {
     "end_time": "2025-09-29T15:27:11.439837Z",
     "start_time": "2025-09-29T15:27:11.294562Z"
    }
   },
   "cell_type": "code",
   "source": "df_RU=pd.merge(Rating,Users,on='UserId')\n",
   "id": "70f27e799d759976",
   "outputs": [],
   "execution_count": 5
  },
  {
   "metadata": {
    "ExecuteTime": {
     "end_time": "2025-09-29T15:27:12.083919Z",
     "start_time": "2025-09-29T15:27:11.881033Z"
    }
   },
   "cell_type": "code",
   "source": "df=pd.merge(df_RU,Movie,on='MovieIDs')",
   "id": "21d397e12877d5b1",
   "outputs": [],
   "execution_count": 6
  },
  {
   "metadata": {
    "ExecuteTime": {
     "end_time": "2025-09-29T15:27:12.358132Z",
     "start_time": "2025-09-29T15:27:12.343086Z"
    }
   },
   "cell_type": "code",
   "source": "print(df.head())",
   "id": "aef7ce47e9a83a38",
   "outputs": [
    {
     "name": "stdout",
     "output_type": "stream",
     "text": [
      "   UserId  MovieIDs  Rating  Timestamp Gender  Age  Occupation Zip-code  \\\n",
      "0       1      1193       5  978300760      F    1          10    48067   \n",
      "1       1       661       3  978302109      F    1          10    48067   \n",
      "2       1       914       3  978301968      F    1          10    48067   \n",
      "3       1      3408       4  978300275      F    1          10    48067   \n",
      "4       1      2355       5  978824291      F    1          10    48067   \n",
      "\n",
      "                                    Ttile                        Genres  \n",
      "0  One Flew Over the Cuckoo's Nest (1975)                         Drama  \n",
      "1        James and the Giant Peach (1996)  Animation|Children's|Musical  \n",
      "2                     My Fair Lady (1964)               Musical|Romance  \n",
      "3                  Erin Brockovich (2000)                         Drama  \n",
      "4                    Bug's Life, A (1998)   Animation|Children's|Comedy  \n"
     ]
    }
   ],
   "execution_count": 7
  },
  {
   "metadata": {
    "ExecuteTime": {
     "end_time": "2025-09-29T15:27:13.051391Z",
     "start_time": "2025-09-29T15:27:13.044188Z"
    }
   },
   "cell_type": "code",
   "source": "print(df.shape)",
   "id": "2d8272c24bc503cd",
   "outputs": [
    {
     "name": "stdout",
     "output_type": "stream",
     "text": [
      "(1000209, 10)\n"
     ]
    }
   ],
   "execution_count": 8
  },
  {
   "metadata": {
    "ExecuteTime": {
     "end_time": "2025-09-29T15:27:13.869431Z",
     "start_time": "2025-09-29T15:27:13.595291Z"
    }
   },
   "cell_type": "code",
   "source": [
    "x=df.isna().sum().sort_values(ascending=False)\n",
    "print(x)"
   ],
   "id": "11041a3adc917b49",
   "outputs": [
    {
     "name": "stdout",
     "output_type": "stream",
     "text": [
      "UserId        0\n",
      "MovieIDs      0\n",
      "Rating        0\n",
      "Timestamp     0\n",
      "Gender        0\n",
      "Age           0\n",
      "Occupation    0\n",
      "Zip-code      0\n",
      "Ttile         0\n",
      "Genres        0\n",
      "dtype: int64\n"
     ]
    }
   ],
   "execution_count": 9
  },
  {
   "metadata": {
    "ExecuteTime": {
     "end_time": "2025-09-29T15:27:14.933767Z",
     "start_time": "2025-09-29T15:27:14.102685Z"
    }
   },
   "cell_type": "code",
   "source": "print(df.duplicated().sum())",
   "id": "3178fbe283d85cd4",
   "outputs": [
    {
     "name": "stdout",
     "output_type": "stream",
     "text": [
      "0\n"
     ]
    }
   ],
   "execution_count": 10
  },
  {
   "metadata": {
    "ExecuteTime": {
     "end_time": "2025-09-29T15:27:15.594495Z",
     "start_time": "2025-09-29T15:27:15.352348Z"
    }
   },
   "cell_type": "code",
   "source": "X_Recommendation_train,X_Recommendation_test=train_test_split(df,test_size=0.2,random_state=1)",
   "id": "bb2c68844e0c3bcb",
   "outputs": [],
   "execution_count": 11
  },
  {
   "metadata": {
    "ExecuteTime": {
     "end_time": "2025-09-29T15:27:16.043669Z",
     "start_time": "2025-09-29T15:27:16.031047Z"
    }
   },
   "cell_type": "code",
   "source": "'''print(f'Training Data: {Xtrain.shape} \\nTest Data: {X_test.shape}')'''",
   "id": "49a83004139660ab",
   "outputs": [
    {
     "data": {
      "text/plain": [
       "\"print(f'Training Data: {Xtrain.shape} \\nTest Data: {X_test.shape}')\""
      ]
     },
     "execution_count": 12,
     "metadata": {},
     "output_type": "execute_result"
    }
   ],
   "execution_count": 12
  },
  {
   "metadata": {
    "ExecuteTime": {
     "end_time": "2025-09-29T15:27:16.655911Z",
     "start_time": "2025-09-29T15:27:16.648040Z"
    }
   },
   "cell_type": "code",
   "source": [
    "'''Xsplit_Cluster = Xtrain.sample(frac=0.2, random_state=1)\n",
    "print(f'Cluster = {Xsplit_Cluster.shape}')\n",
    "print(Xsplit_Cluster.head())'''"
   ],
   "id": "bac1efe9e19fed87",
   "outputs": [
    {
     "data": {
      "text/plain": [
       "\"Xsplit_Cluster = Xtrain.sample(frac=0.2, random_state=1)\\nprint(f'Cluster = {Xsplit_Cluster.shape}')\\nprint(Xsplit_Cluster.head())\""
      ]
     },
     "execution_count": 13,
     "metadata": {},
     "output_type": "execute_result"
    }
   ],
   "execution_count": 13
  },
  {
   "metadata": {},
   "cell_type": "markdown",
   "source": [
    " During the development and debugging phase:\n",
    "I used only 20% of the training data in order to:\n",
    "1) Quickly test the code and reduce execution time,\n",
    "2) Verify that the algorithm works correctly,\n",
    "3) Debug issues and iteratively build the pipeline.\n",
    "This was intended for experimentation only, not for the final training phase\n",
    "--------------\n",
    "Xsplit_Cluster = Xtrain.sample(frac=0.2, random_state=1)\n",
    "\n",
    "print(f'Cluster = {Xsplit_Cluster.shape}')\n",
    "\n",
    "genre=Xsplit_Cluster[\"Genres\"].str.get_dummies(\"|\")\n",
    "\n",
    "gender=pd.get_dummies(Xsplit_Cluster[\"Gender\"],prefix=\"Gender\",dtype=int)\n",
    "\n",
    "print(f'Genre {genre.head()}\\n Gender {gender.head()}')\n",
    "\n",
    "UserRating=pd.concat([Xsplit_Cluster.drop(['Genres','Gender'],axis=1),genre,gender],axis=1)\n",
    "print(UserRating.head())\n",
    "\n"
   ],
   "id": "1435e83eef728817"
  },
  {
   "metadata": {
    "ExecuteTime": {
     "end_time": "2025-09-29T15:27:28.406550Z",
     "start_time": "2025-09-29T15:27:28.399033Z"
    }
   },
   "cell_type": "code",
   "source": [
    "def prepare_Data(X):\n",
    "    genre=X[\"Genres\"].str.get_dummies(\"|\")\n",
    "    gender=pd.get_dummies(X[\"Gender\"],prefix=\"Gender\",dtype=int)\n",
    "    #print(f'Genre {genre.head()}\\n Gender {gender.head()}')\n",
    "    UserRating=pd.concat([X.drop(['Genres','Gender'],axis=1),genre,gender],axis=1)\n",
    "    #print(UserRating.head())\n",
    "    columnsName=[]\n",
    "    for i in genre.columns:\n",
    "      columnsName.append(i)\n",
    "      #print(columnsName)\n",
    "    for i in columnsName:\n",
    "       UserRating[i]= UserRating[i] * UserRating[\"Rating\"]\n",
    "       #print(UserRating.head())\n",
    "    GenderColumnsName=[]\n",
    "    for gender in gender.columns:\n",
    "        GenderColumnsName.append(gender)\n",
    "    #user=UserRating[['UserId',\"Occupation\",\"Rating\"]+GenderColumnsName+columnsName]\n",
    "    #print(user.head())\n",
    "    Userrange=UserRating.groupby(\"UserId\")[genre.columns].mean().reset_index()\n",
    "    #print(Userrange.head())\n",
    "    userinfo=UserRating[[\"UserId\",GenderColumnsName[0],GenderColumnsName[1],\"Occupation\",\"Age\"]].drop_duplicates()\n",
    "    Userrates=userinfo.merge(Userrange,on='UserId')\n",
    "    #print(Userrates.head())\n",
    "\n",
    "    return Userrates\n",
    "\n",
    "\n",
    "\n"
   ],
   "id": "551281e8c8d834f8",
   "outputs": [],
   "execution_count": 15
  },
  {
   "metadata": {},
   "cell_type": "markdown",
   "source": [
    "When checking the train and test data after removing duplicate users\n",
    "\n",
    "(to keep one unique row per user for clustering), I found:\n",
    "\n",
    "Training set shape = (6040, 22), Test set shape = (6038, 22).\n",
    "\n",
    "For this reason, I moved the data preparation step to be performed\n",
    "\n",
    "before splitting into training and test sets."
   ],
   "id": "788a6f9a9e8179df"
  },
  {
   "metadata": {
    "jupyter": {
     "is_executing": true
    },
    "ExecuteTime": {
     "start_time": "2025-09-29T15:27:29.567911Z"
    }
   },
   "cell_type": "code",
   "source": [
    "Userrates=prepare_Data(df)\n",
    "X_Kmean_train,X_Kmean_test=train_test_split(Userrates,test_size=0.2,random_state=1)\n",
    "\n"
   ],
   "id": "419d4dd2cb05d392",
   "outputs": [],
   "execution_count": null
  },
  {
   "metadata": {},
   "cell_type": "code",
   "source": [
    "UserDatascale_Train=X_Kmean_train[[\"Occupation\",\"Age\"]]\n",
    "X_Kmean_train=X_Kmean_train.drop([\"UserId\",\"Occupation\",\"Age\"],axis=1)\n",
    "X_Kmean_train=X_Kmean_train.to_numpy()\n",
    "scaler=StandardScaler()\n",
    "xscaled_train=scaler.fit_transform(UserDatascale_Train)\n",
    "X=np.hstack((X_Kmean_train,xscaled_train))"
   ],
   "id": "33540096991c6377",
   "outputs": [],
   "execution_count": null
  },
  {
   "metadata": {},
   "cell_type": "code",
   "source": [
    "#X= Userrates.to_numpy()\n",
    "\n",
    "def init_Centroids(X,K):\n",
    "    idx=np.random.choice(len(X),K,replace=False)\n",
    "    centroids=X[idx]\n",
    "    return centroids"
   ],
   "id": "85f234258c94cd28",
   "outputs": [],
   "execution_count": null
  },
  {
   "metadata": {},
   "cell_type": "code",
   "source": [
    "def new_Centroids(X,K,Address):\n",
    "    Centroids=[]\n",
    "    for k in range (K):\n",
    "        ClusterPoints=X[Address==k]\n",
    "        if len(ClusterPoints)>0:\n",
    "           newcentroids=ClusterPoints.mean(axis=0)\n",
    "        else:\n",
    "            newcentroids=X[np.random.choice(len(X))]\n",
    "        Centroids.append(newcentroids)\n",
    "    centroids=np.array(Centroids)\n",
    "    return centroids"
   ],
   "id": "27a48a7291f195ac",
   "outputs": [],
   "execution_count": null
  },
  {
   "metadata": {},
   "cell_type": "code",
   "source": [
    "def Kmean_Fit(X,K,iteration=1000):\n",
    "    centroids=init_Centroids(X,K)\n",
    "    for i in range (iteration):\n",
    "        distance =np.linalg.norm(X[:,np.newaxis]-centroids,axis=2)\n",
    "        Address=np.argmin(distance,axis=1)\n",
    "        newcentroids=new_Centroids(X,K,Address)\n",
    "        if np.all(centroids==newcentroids):\n",
    "            break\n",
    "        centroids=newcentroids\n",
    "    return centroids,Address"
   ],
   "id": "359932e5ad67ab54",
   "outputs": [],
   "execution_count": null
  },
  {
   "metadata": {},
   "cell_type": "code",
   "source": [
    "def kmean_prediction(X,centroids):\n",
    "    distance=np.linalg.norm(X[:,np.newaxis]-centroids,axis=2)\n",
    "    cluster=np.argmin(distance,axis=1)\n",
    "    return cluster"
   ],
   "id": "3d8da904b424967d",
   "outputs": [],
   "execution_count": null
  },
  {
   "metadata": {},
   "cell_type": "markdown",
   "source": "------------------------ElbowMethod-----------------------\n",
   "id": "138ebe599aa84ac"
  },
  {
   "metadata": {},
   "cell_type": "code",
   "source": [
    "def compute_cost(X,centroids,Address):\n",
    "    cost=0\n",
    "    for i in range(len(X)):\n",
    "        centroid=centroids[Address[i]]\n",
    "        cost+=np.sum((X[i]-centroid)**2)\n",
    "    return cost/len(X)"
   ],
   "id": "1ebbd1ee54a23ee9",
   "outputs": [],
   "execution_count": null
  },
  {
   "metadata": {},
   "cell_type": "code",
   "source": [
    "Kvalues=range(1,11)\n",
    "def Elbow_Method (X):\n",
    "    costlist=[]\n",
    "    for k in Kvalues:\n",
    "        centroids,Address=Kmean_Fit(X,k)\n",
    "        cost=compute_cost(X,centroids,Address)\n",
    "        costlist.append(cost)\n",
    "    return costlist\n",
    "\n",
    "\n",
    "\n",
    "WCSS=Elbow_Method(X)\n",
    "plt.plot(Kvalues, WCSS)\n",
    "plt.xlabel('K')\n",
    "plt.ylabel('Cost')\n",
    "plt.title('Elbow Method')\n",
    "plt.show()\n"
   ],
   "id": "a1d0dce5f93aef90",
   "outputs": [],
   "execution_count": null
  },
  {
   "metadata": {},
   "cell_type": "code",
   "source": "Centroids1,Address=Kmean_Fit(X,K=8,iteration=1000)",
   "id": "9fad0ecc4ccd23a5",
   "outputs": [],
   "execution_count": null
  },
  {
   "metadata": {},
   "cell_type": "code",
   "source": [
    "pca=PCA(n_components=2)\n",
    "X_PCA=pca.fit_transform(X)\n",
    "Centroids_PCA=pca.transform(Centroids1)"
   ],
   "id": "34af9972ad2de8ce",
   "outputs": [],
   "execution_count": null
  },
  {
   "metadata": {},
   "cell_type": "code",
   "source": [
    "plt.figure(figsize=(12, 10))\n",
    "\n",
    "plt.scatter(X_PCA[:,0],X_PCA[:,1],c=Address,cmap=\"plasma\", s=5)\n",
    "plt.title(\"K-mean for users\")\n",
    "plt.show()"
   ],
   "id": "e8b649cd10dace90",
   "outputs": [],
   "execution_count": null
  },
  {
   "metadata": {},
   "cell_type": "code",
   "source": [
    "'''UserDatascale_test,Userrates_test=prepare_Data(X_test)\n",
    "xscaled_test=scaler.transform(UserDatascale_test)\n",
    "x_test=np.hstack((Userrates_test,xscaled_test))'''"
   ],
   "id": "1e99c92c935b09b6",
   "outputs": [],
   "execution_count": null
  },
  {
   "metadata": {},
   "cell_type": "code",
   "source": [
    "UserDatascale_test=X_Kmean_test[[\"Occupation\",\"Age\"]]\n",
    "X_Kmean_test=X_Kmean_test.drop([\"UserId\",\"Occupation\",\"Age\"],axis=1)\n",
    "X_Kmean_test=X_Kmean_test.to_numpy()\n",
    "scaler=StandardScaler()\n",
    "xscaled_test=scaler.fit_transform(UserDatascale_Train)\n",
    "X_Kmean_test=np.hstack((X_Kmean_test,xscaled_test))"
   ],
   "id": "34f39ff3442a1200",
   "outputs": [],
   "execution_count": null
  },
  {
   "metadata": {},
   "cell_type": "code",
   "source": "",
   "id": "6af485aef38e289d",
   "outputs": [],
   "execution_count": null
  },
  {
   "metadata": {},
   "cell_type": "markdown",
   "source": "# Draft Area\n",
   "id": "ef3f0ffbe11caf2a"
  },
  {
   "metadata": {},
   "cell_type": "code",
   "source": [
    "'''genre=Xtrain[\"Genres\"].str.get_dummies(\"|\")\n",
    "gender=pd.get_dummies(Xtrain[\"Gender\"],prefix=\"Gender\",dtype=int)\n",
    "print(f'Genre {genre.head()}\\n Gender {gender.head()}')'''\n"
   ],
   "id": "c91de97abac5d2fb",
   "outputs": [],
   "execution_count": null
  },
  {
   "metadata": {},
   "cell_type": "code",
   "source": [
    "'''UserRating=pd.concat([Xtrain.drop(['Genres','Gender'],axis=1),genre,gender],axis=1)\n",
    "print(UserRating.head())'''"
   ],
   "id": "543d8007d4ba6508",
   "outputs": [],
   "execution_count": null
  },
  {
   "metadata": {},
   "cell_type": "code",
   "source": [
    "'''columnsName=[]\n",
    "for i in genre.columns:\n",
    "    columnsName.append(i)\n",
    "print(columnsName)'''\n"
   ],
   "id": "2b9bb6293134d40b",
   "outputs": [],
   "execution_count": null
  },
  {
   "metadata": {},
   "cell_type": "code",
   "source": [
    "'''for i in columnsName:\n",
    "    UserRating[i]= UserRating[i] * UserRating[\"Rating\"]\n",
    "print(UserRating.head())'''"
   ],
   "id": "69fb4ac68a6cd5c8",
   "outputs": [],
   "execution_count": null
  },
  {
   "metadata": {},
   "cell_type": "code",
   "source": [
    "'''GenderColumnsName=[]\n",
    "for gender in gender.columns:\n",
    "    GenderColumnsName.append(gender)'''"
   ],
   "id": "d1c47e4d2469f923",
   "outputs": [],
   "execution_count": null
  },
  {
   "metadata": {},
   "cell_type": "code",
   "source": [
    "'''user=UserRating[['UserId',\"Occupation\",\"Rating\"]+GenderColumnsName+columnsName]\n",
    "print(user.head())'''"
   ],
   "id": "fd0ff3b2be117a5d",
   "outputs": [],
   "execution_count": null
  },
  {
   "metadata": {},
   "cell_type": "code",
   "source": [
    "\n",
    "'''for i in user[\"UserId\"].unique():\n",
    "    currentrow=user[user['UserId']==i]\n",
    "    for x in columnsName:\n",
    "\n",
    "\n",
    "print(UserRating.head())'''"
   ],
   "id": "614a3fa92cfe5d94",
   "outputs": [],
   "execution_count": null
  },
  {
   "metadata": {},
   "cell_type": "code",
   "source": [
    "#print(genre.columns)\n",
    "'''Userrange=UserRating.groupby(\"UserId\")[genre.columns].mean().reset_index()\n",
    "print(Userrange.head(2))'''\n",
    "\n"
   ],
   "id": "c0f7b698996ca06",
   "outputs": [],
   "execution_count": null
  },
  {
   "metadata": {},
   "cell_type": "code",
   "source": [
    "'''userinfo=UserRating[[\"UserId\",GenderColumnsName[0],GenderColumnsName[1],\"Occupation\",\"Age\"]].drop_duplicates()\n",
    "print(userinfo.head())'''\n"
   ],
   "id": "dcbf72870576ef8b",
   "outputs": [],
   "execution_count": null
  },
  {
   "metadata": {},
   "cell_type": "code",
   "source": [
    "'''Userrates=userinfo.merge(Userrange,on='UserId')\n",
    "print(Userrates.head())'''"
   ],
   "id": "b3cc24ef64090c4f",
   "outputs": [],
   "execution_count": null
  },
  {
   "metadata": {},
   "cell_type": "code",
   "source": "",
   "id": "7ba1de008188e3eb",
   "outputs": [],
   "execution_count": null
  },
  {
   "metadata": {},
   "cell_type": "code",
   "source": [
    "'''print(Userrates.shape)\n",
    "#Userrates=Userrates.drop([\"UserId\"],axis=1)\n",
    "#print(Userrates.head())\n",
    "UserDatascale=Userrates[[\"Occupation\",\"Age\"]]'''"
   ],
   "id": "69da8d5d5735aa51",
   "outputs": [],
   "execution_count": null
  },
  {
   "metadata": {},
   "cell_type": "code",
   "source": "'''print(UserDatascale.head())'''",
   "id": "10bf31fd11c5b6e",
   "outputs": [],
   "execution_count": null
  },
  {
   "metadata": {},
   "cell_type": "code",
   "source": "\n",
   "id": "c6a2cc3c2e5a9610",
   "outputs": [],
   "execution_count": null
  },
  {
   "metadata": {},
   "cell_type": "code",
   "source": [
    "'''userdatascaled=pd.DataFrame(xscaled,columns=UserDatascale.columns)\n",
    "print(userdatascaled.head())'''\n",
    "\n"
   ],
   "id": "e018d6d528c0123f",
   "outputs": [],
   "execution_count": null
  },
  {
   "metadata": {},
   "cell_type": "code",
   "source": [
    "'''Userrates=Userrates.drop([\"UserId\",\"Occupation\",\"Age\"],axis=1)\n",
    "Userrates=pd.concat([Userrates,userdatascaled],axis=1)\n",
    "print(Userrates.head())\n",
    "Userrates=Userrates.drop([\"UserId\",\"Occupation\",\"Age\"],axis=1)\n",
    "Userrates=Userrates.to_numpy()'''\n"
   ],
   "id": "a55d72118f429b5a",
   "outputs": [],
   "execution_count": null
  }
 ],
 "metadata": {
  "kernelspec": {
   "display_name": "Python 3",
   "language": "python",
   "name": "python3"
  },
  "language_info": {
   "codemirror_mode": {
    "name": "ipython",
    "version": 2
   },
   "file_extension": ".py",
   "mimetype": "text/x-python",
   "name": "python",
   "nbconvert_exporter": "python",
   "pygments_lexer": "ipython2",
   "version": "2.7.6"
  }
 },
 "nbformat": 4,
 "nbformat_minor": 5
}
